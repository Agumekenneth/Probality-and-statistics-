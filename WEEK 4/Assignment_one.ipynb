{
 "cells": [
  {
   "cell_type": "markdown",
   "metadata": {},
   "source": [
    "AGUME KENNETH S24B38/017  B30309"
   ]
  },
  {
   "cell_type": "code",
   "execution_count": 82,
   "metadata": {},
   "outputs": [],
   "source": [
    "import pandas as pd\n",
    "import warnings\n",
    "warnings.filterwarnings('ignore')"
   ]
  },
  {
   "cell_type": "code",
   "execution_count": 83,
   "metadata": {},
   "outputs": [
    {
     "data": {
      "text/html": [
       "<div>\n",
       "<style scoped>\n",
       "    .dataframe tbody tr th:only-of-type {\n",
       "        vertical-align: middle;\n",
       "    }\n",
       "\n",
       "    .dataframe tbody tr th {\n",
       "        vertical-align: top;\n",
       "    }\n",
       "\n",
       "    .dataframe thead th {\n",
       "        text-align: right;\n",
       "    }\n",
       "</style>\n",
       "<table border=\"1\" class=\"dataframe\">\n",
       "  <thead>\n",
       "    <tr style=\"text-align: right;\">\n",
       "      <th></th>\n",
       "      <th>Access_no</th>\n",
       "      <th>gender</th>\n",
       "      <th>age</th>\n",
       "      <th>course</th>\n",
       "      <th>DSC3108</th>\n",
       "      <th>DSC3114</th>\n",
       "      <th>MTH3108</th>\n",
       "      <th>SYE3104</th>\n",
       "    </tr>\n",
       "  </thead>\n",
       "  <tbody>\n",
       "    <tr>\n",
       "      <th>0</th>\n",
       "      <td>123</td>\n",
       "      <td>female</td>\n",
       "      <td>21</td>\n",
       "      <td>Computer_Science</td>\n",
       "      <td>89.0</td>\n",
       "      <td>88.0</td>\n",
       "      <td>72</td>\n",
       "      <td>65</td>\n",
       "    </tr>\n",
       "    <tr>\n",
       "      <th>1</th>\n",
       "      <td>415</td>\n",
       "      <td>male</td>\n",
       "      <td>22</td>\n",
       "      <td>Computer_Science</td>\n",
       "      <td>91.0</td>\n",
       "      <td>98.0</td>\n",
       "      <td>88</td>\n",
       "      <td>89</td>\n",
       "    </tr>\n",
       "    <tr>\n",
       "      <th>2</th>\n",
       "      <td>321</td>\n",
       "      <td>male</td>\n",
       "      <td>21</td>\n",
       "      <td>Data_Science</td>\n",
       "      <td>73.0</td>\n",
       "      <td>70.0</td>\n",
       "      <td>38</td>\n",
       "      <td>41</td>\n",
       "    </tr>\n",
       "    <tr>\n",
       "      <th>3</th>\n",
       "      <td>124</td>\n",
       "      <td>female</td>\n",
       "      <td>21</td>\n",
       "      <td>Information_Technology</td>\n",
       "      <td>30.0</td>\n",
       "      <td>40.0</td>\n",
       "      <td>60</td>\n",
       "      <td>31</td>\n",
       "    </tr>\n",
       "    <tr>\n",
       "      <th>4</th>\n",
       "      <td>314</td>\n",
       "      <td>female</td>\n",
       "      <td>22</td>\n",
       "      <td>Computer_Science</td>\n",
       "      <td>70.0</td>\n",
       "      <td>75.0</td>\n",
       "      <td>78</td>\n",
       "      <td>60</td>\n",
       "    </tr>\n",
       "    <tr>\n",
       "      <th>5</th>\n",
       "      <td>891</td>\n",
       "      <td>male</td>\n",
       "      <td>21</td>\n",
       "      <td>Information_Technology</td>\n",
       "      <td>25.0</td>\n",
       "      <td>70.0</td>\n",
       "      <td>69</td>\n",
       "      <td>19</td>\n",
       "    </tr>\n",
       "    <tr>\n",
       "      <th>6</th>\n",
       "      <td>729</td>\n",
       "      <td>female</td>\n",
       "      <td>22</td>\n",
       "      <td>Data_Science</td>\n",
       "      <td>65.0</td>\n",
       "      <td>80.0</td>\n",
       "      <td>38</td>\n",
       "      <td>43</td>\n",
       "    </tr>\n",
       "    <tr>\n",
       "      <th>7</th>\n",
       "      <td>892</td>\n",
       "      <td>female</td>\n",
       "      <td>21</td>\n",
       "      <td>Data_Science</td>\n",
       "      <td>90.0</td>\n",
       "      <td>95.0</td>\n",
       "      <td>92</td>\n",
       "      <td>93</td>\n",
       "    </tr>\n",
       "    <tr>\n",
       "      <th>8</th>\n",
       "      <td>545</td>\n",
       "      <td>male</td>\n",
       "      <td>22</td>\n",
       "      <td>NaN</td>\n",
       "      <td>54.0</td>\n",
       "      <td>69.0</td>\n",
       "      <td>78</td>\n",
       "      <td>77</td>\n",
       "    </tr>\n",
       "    <tr>\n",
       "      <th>9</th>\n",
       "      <td>718</td>\n",
       "      <td>female</td>\n",
       "      <td>21</td>\n",
       "      <td>Information_Technology</td>\n",
       "      <td>NaN</td>\n",
       "      <td>78.0</td>\n",
       "      <td>79</td>\n",
       "      <td>88</td>\n",
       "    </tr>\n",
       "    <tr>\n",
       "      <th>10</th>\n",
       "      <td>390</td>\n",
       "      <td>male</td>\n",
       "      <td>22</td>\n",
       "      <td>Computer_Science</td>\n",
       "      <td>45.0</td>\n",
       "      <td>NaN</td>\n",
       "      <td>79</td>\n",
       "      <td>85</td>\n",
       "    </tr>\n",
       "  </tbody>\n",
       "</table>\n",
       "</div>"
      ],
      "text/plain": [
       "    Access_no  gender  age                  course  DSC3108  DSC3114  MTH3108  \\\n",
       "0         123  female   21        Computer_Science     89.0     88.0       72   \n",
       "1         415    male   22        Computer_Science     91.0     98.0       88   \n",
       "2         321    male   21            Data_Science     73.0     70.0       38   \n",
       "3         124  female   21  Information_Technology     30.0     40.0       60   \n",
       "4         314  female   22        Computer_Science     70.0     75.0       78   \n",
       "5         891    male   21  Information_Technology     25.0     70.0       69   \n",
       "6         729  female   22            Data_Science     65.0     80.0       38   \n",
       "7         892  female   21            Data_Science     90.0     95.0       92   \n",
       "8         545    male   22                     NaN     54.0     69.0       78   \n",
       "9         718  female   21  Information_Technology      NaN     78.0       79   \n",
       "10        390    male   22        Computer_Science     45.0      NaN       79   \n",
       "\n",
       "    SYE3104  \n",
       "0        65  \n",
       "1        89  \n",
       "2        41  \n",
       "3        31  \n",
       "4        60  \n",
       "5        19  \n",
       "6        43  \n",
       "7        93  \n",
       "8        77  \n",
       "9        88  \n",
       "10       85  "
      ]
     },
     "execution_count": 83,
     "metadata": {},
     "output_type": "execute_result"
    }
   ],
   "source": [
    "data = pd.read_excel(\"Student_performance.xlsx\")\n",
    "data"
   ]
  },
  {
   "cell_type": "markdown",
   "metadata": {},
   "source": [
    "Basing on the dataset we can see some columns have missing values so, we can on a function to check and confirm the existence of the missing values"
   ]
  },
  {
   "cell_type": "code",
   "execution_count": 84,
   "metadata": {},
   "outputs": [
    {
     "data": {
      "text/plain": [
       "Access_no    0\n",
       "gender       0\n",
       "age          0\n",
       "course       1\n",
       "DSC3108      1\n",
       "DSC3114      1\n",
       "MTH3108      0\n",
       "SYE3104      0\n",
       "dtype: int64"
      ]
     },
     "execution_count": 84,
     "metadata": {},
     "output_type": "execute_result"
    }
   ],
   "source": [
    "data.isnull().sum()"
   ]
  },
  {
   "cell_type": "markdown",
   "metadata": {},
   "source": [
    "# Filling in for our missing values"
   ]
  },
  {
   "cell_type": "markdown",
   "metadata": {},
   "source": [
    "We use mode to fill in the missing values within 'course' since it's categorical thus basing on the most frequent used category value"
   ]
  },
  {
   "cell_type": "code",
   "execution_count": 85,
   "metadata": {},
   "outputs": [],
   "source": [
    "data['course'].fillna(value=data[\"course\"].mode()[0],inplace=True)"
   ]
  },
  {
   "cell_type": "markdown",
   "metadata": {},
   "source": [
    "We use median to fill in the missing values within 'DSC3108' because it's continous data type and median provides a more stable estimate "
   ]
  },
  {
   "cell_type": "code",
   "execution_count": 86,
   "metadata": {},
   "outputs": [],
   "source": [
    "data['DSC3108'].fillna(value=data['DSC3108'].median(),inplace=True)"
   ]
  },
  {
   "cell_type": "markdown",
   "metadata": {},
   "source": [
    "We use mean to fill in missing values within 'DSC3114' beacause it ensures that missing values are replaced with a single consistent value "
   ]
  },
  {
   "cell_type": "code",
   "execution_count": 87,
   "metadata": {},
   "outputs": [],
   "source": [
    "data['DSC3114'].fillna(value=data['DSC3114'].mean(),inplace=True)"
   ]
  },
  {
   "cell_type": "markdown",
   "metadata": {},
   "source": [
    "We check for missing values again to know the status of our dataset"
   ]
  },
  {
   "cell_type": "code",
   "execution_count": 88,
   "metadata": {},
   "outputs": [
    {
     "data": {
      "text/plain": [
       "Access_no    0\n",
       "gender       0\n",
       "age          0\n",
       "course       0\n",
       "DSC3108      0\n",
       "DSC3114      0\n",
       "MTH3108      0\n",
       "SYE3104      0\n",
       "dtype: int64"
      ]
     },
     "execution_count": 88,
     "metadata": {},
     "output_type": "execute_result"
    }
   ],
   "source": [
    "data.isnull().sum()"
   ]
  },
  {
   "cell_type": "markdown",
   "metadata": {},
   "source": [
    "# The probability of a  student studying Information_Technology"
   ]
  },
  {
   "cell_type": "code",
   "execution_count": 89,
   "metadata": {},
   "outputs": [
    {
     "data": {
      "text/plain": [
       "np.int64(3)"
      ]
     },
     "execution_count": 89,
     "metadata": {},
     "output_type": "execute_result"
    }
   ],
   "source": [
    "Information_Technology = data[data['course'] == \"Information_Technology\"]['course'].count()\n",
    "#View results\n",
    "Information_Technology"
   ]
  },
  {
   "cell_type": "code",
   "execution_count": 90,
   "metadata": {},
   "outputs": [
    {
     "name": "stdout",
     "output_type": "stream",
     "text": [
      "The total is: 11\n"
     ]
    }
   ],
   "source": [
    "#Probability of total Information_Technology\n",
    "Information_Technology_total = data['course'].count()\n",
    "#View result\n",
    "print(f'The total is: {Information_Technology_total}')\n"
   ]
  },
  {
   "cell_type": "code",
   "execution_count": 91,
   "metadata": {},
   "outputs": [
    {
     "name": "stdout",
     "output_type": "stream",
     "text": [
      "The probabilty is: 0.2727272727272727\n"
     ]
    }
   ],
   "source": [
    "# probaility of Information_Technology\n",
    "probabilty_of_Infornation_Technology = Information_Technology/Information_Technology_total\n",
    "print(f\"The probabilty is: {probabilty_of_Infornation_Technology}\")"
   ]
  },
  {
   "cell_type": "markdown",
   "metadata": {},
   "source": [
    "# The probability of a female student studying Computer_Science"
   ]
  },
  {
   "cell_type": "markdown",
   "metadata": {},
   "source": [
    "No of female students doing computer_science"
   ]
  },
  {
   "cell_type": "code",
   "execution_count": 92,
   "metadata": {},
   "outputs": [
    {
     "data": {
      "text/plain": [
       "np.int64(5)"
      ]
     },
     "execution_count": 92,
     "metadata": {},
     "output_type": "execute_result"
    }
   ],
   "source": [
    "Computer_Science = data[data['course'] == 'Computer_Science']['course'].count()\n",
    "#View results\n",
    "Computer_Science"
   ]
  },
  {
   "cell_type": "code",
   "execution_count": 93,
   "metadata": {},
   "outputs": [
    {
     "data": {
      "text/plain": [
       "0      True\n",
       "1     False\n",
       "2     False\n",
       "3     False\n",
       "4      True\n",
       "5     False\n",
       "6     False\n",
       "7     False\n",
       "8     False\n",
       "9     False\n",
       "10    False\n",
       "dtype: bool"
      ]
     },
     "execution_count": 93,
     "metadata": {},
     "output_type": "execute_result"
    }
   ],
   "source": [
    "# filter our data\n",
    "filtered_data = (data['course'] == 'Computer_Science') & (data['gender'] == 'female')\n",
    "filtered_data"
   ]
  },
  {
   "cell_type": "code",
   "execution_count": 94,
   "metadata": {},
   "outputs": [
    {
     "name": "stdout",
     "output_type": "stream",
     "text": [
      "The number of female students doing computer science: 2\n"
     ]
    }
   ],
   "source": [
    "fdcs = data[filtered_data]['course'].count()\n",
    "print(f'The number of female students doing computer science: {fdcs}')"
   ]
  },
  {
   "cell_type": "code",
   "execution_count": 95,
   "metadata": {},
   "outputs": [
    {
     "name": "stdout",
     "output_type": "stream",
     "text": [
      "The probability of females doing Computer_Scienec: 0.4\n"
     ]
    }
   ],
   "source": [
    "# probability of female students doing Computer_Science\n",
    "pfdcs = fdcs/Computer_Science\n",
    "print(f\"The probability of females doing Computer_Scienec: {pfdcs}\")"
   ]
  },
  {
   "cell_type": "markdown",
   "metadata": {},
   "source": [
    "# A male student studying Data_Science"
   ]
  },
  {
   "cell_type": "code",
   "execution_count": 96,
   "metadata": {},
   "outputs": [
    {
     "data": {
      "text/plain": [
       "np.int64(3)"
      ]
     },
     "execution_count": 96,
     "metadata": {},
     "output_type": "execute_result"
    }
   ],
   "source": [
    "Data_Science = data[data['course'] == 'Data_Science']['course'].count()\n",
    "Data_Science"
   ]
  },
  {
   "cell_type": "code",
   "execution_count": 97,
   "metadata": {},
   "outputs": [
    {
     "data": {
      "text/plain": [
       "0     False\n",
       "1     False\n",
       "2      True\n",
       "3     False\n",
       "4     False\n",
       "5     False\n",
       "6     False\n",
       "7     False\n",
       "8     False\n",
       "9     False\n",
       "10    False\n",
       "dtype: bool"
      ]
     },
     "execution_count": 97,
     "metadata": {},
     "output_type": "execute_result"
    }
   ],
   "source": [
    "filtered_data = (data['course'] == 'Data_Science') & (data['gender'] == 'male')\n",
    "filtered_data\n"
   ]
  },
  {
   "cell_type": "code",
   "execution_count": 98,
   "metadata": {},
   "outputs": [
    {
     "name": "stdout",
     "output_type": "stream",
     "text": [
      "The number of male studebts doing Data Science is: 1\n"
     ]
    }
   ],
   "source": [
    "mdds = data[filtered_data]['course'].count()\n",
    "print(f\"The number of male studebts doing Data Science is: {mdds}\")"
   ]
  },
  {
   "cell_type": "code",
   "execution_count": 99,
   "metadata": {},
   "outputs": [
    {
     "name": "stdout",
     "output_type": "stream",
     "text": [
      "The probability of a male student doing Data Science is: 0.3333333333333333\n"
     ]
    }
   ],
   "source": [
    "# probability of a male student doing Data science\n",
    "msdds = mdds/Data_Science\n",
    "print(f\"The probability of a male student doing Data Science is: {msdds}\")"
   ]
  }
 ],
 "metadata": {
  "kernelspec": {
   "display_name": "Python 3",
   "language": "python",
   "name": "python3"
  },
  "language_info": {
   "codemirror_mode": {
    "name": "ipython",
    "version": 3
   },
   "file_extension": ".py",
   "mimetype": "text/x-python",
   "name": "python",
   "nbconvert_exporter": "python",
   "pygments_lexer": "ipython3",
   "version": "3.12.5"
  }
 },
 "nbformat": 4,
 "nbformat_minor": 2
}
