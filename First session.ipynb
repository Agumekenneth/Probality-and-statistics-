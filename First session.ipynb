{
 "cells": [
  {
   "cell_type": "markdown",
   "metadata": {},
   "source": [
    "This involves the:\n",
    "\n",
    "- Collection of data\n",
    "\n",
    "- Wrangling of Data \n",
    "\n",
    "- Analyzing \n",
    "\n",
    "- Presentation\n",
    "\n",
    "- Interpretation \n",
    "\n",
    "- Make statistical conclusion\n",
    "\n",
    "- "
   ]
  },
  {
   "cell_type": "markdown",
   "metadata": {},
   "source": [
    "This has both Primary and secondary sources of data collection "
   ]
  },
  {
   "cell_type": "markdown",
   "metadata": {},
   "source": [
    "It has data tpyes like;\n",
    "\n",
    "- Qualitative which is not represented in numerical values i.e color,gender, religion \n",
    "\n",
    "- Quantitative data is one that is represented in numerical values i.e. continuious and discountinious "
   ]
  }
 ],
 "metadata": {
  "language_info": {
   "name": "python"
  }
 },
 "nbformat": 4,
 "nbformat_minor": 2
}
